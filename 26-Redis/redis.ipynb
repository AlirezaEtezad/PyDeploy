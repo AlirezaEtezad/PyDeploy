import redis

r = redis.Redis(host="localhost", port=6379)

r.set("name", "sajjad")
